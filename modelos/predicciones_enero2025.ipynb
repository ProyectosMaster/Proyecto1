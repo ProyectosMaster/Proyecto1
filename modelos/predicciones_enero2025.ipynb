{
 "cells": [
  {
   "cell_type": "code",
   "execution_count": 1,
   "metadata": {},
   "outputs": [],
   "source": [
    "import pandas as pd # type: ignore\n",
    "from sklearn.ensemble import RandomForestRegressor # type: ignore\n",
    "from sklearn.model_selection import train_test_split # type: ignore\n",
    "from sklearn.metrics import root_mean_squared_error, r2_score # type: ignore\n",
    "import seaborn as sns\n",
    "import matplotlib.pyplot as plt\n",
    "import os\n",
    "from itertools import product"
   ]
  },
  {
   "cell_type": "code",
   "execution_count": 2,
   "metadata": {},
   "outputs": [],
   "source": [
    "base_dir = os.getcwd()\n",
    "demandas_path = os.path.join(\n",
    "    base_dir, \"..\", \"datos\", \"raw_data\", \"df_historic_order_demand.xlsx\"\n",
    ")\n",
    "df_historic_order_demand = pd.read_excel(demandas_path)"
   ]
  },
  {
   "cell_type": "code",
   "execution_count": 3,
   "metadata": {},
   "outputs": [
    {
     "data": {
      "text/html": [
       "<div>\n",
       "<style scoped>\n",
       "    .dataframe tbody tr th:only-of-type {\n",
       "        vertical-align: middle;\n",
       "    }\n",
       "\n",
       "    .dataframe tbody tr th {\n",
       "        vertical-align: top;\n",
       "    }\n",
       "\n",
       "    .dataframe thead th {\n",
       "        text-align: right;\n",
       "    }\n",
       "</style>\n",
       "<table border=\"1\" class=\"dataframe\">\n",
       "  <thead>\n",
       "    <tr style=\"text-align: right;\">\n",
       "      <th></th>\n",
       "      <th>cliente</th>\n",
       "      <th>mes_anio</th>\n",
       "      <th>order_demand</th>\n",
       "    </tr>\n",
       "  </thead>\n",
       "  <tbody>\n",
       "  </tbody>\n",
       "</table>\n",
       "</div>"
      ],
      "text/plain": [
       "Empty DataFrame\n",
       "Columns: [cliente, mes_anio, order_demand]\n",
       "Index: []"
      ]
     },
     "execution_count": 3,
     "metadata": {},
     "output_type": "execute_result"
    }
   ],
   "source": [
    "# No hay duplicados\n",
    "df_historic_order_demand[df_historic_order_demand.duplicated()]"
   ]
  },
  {
   "cell_type": "code",
   "execution_count": 4,
   "metadata": {},
   "outputs": [
    {
     "data": {
      "text/plain": [
       "cliente          0\n",
       "mes_anio         0\n",
       "order_demand    48\n",
       "dtype: int64"
      ]
     },
     "execution_count": 4,
     "metadata": {},
     "output_type": "execute_result"
    }
   ],
   "source": [
    "df_historic_order_demand.isna().sum()"
   ]
  },
  {
   "cell_type": "code",
   "execution_count": 5,
   "metadata": {},
   "outputs": [],
   "source": [
    "df_historic_order_demand.dropna(inplace=True)"
   ]
  },
  {
   "cell_type": "code",
   "execution_count": 6,
   "metadata": {},
   "outputs": [
    {
     "data": {
      "text/plain": [
       "cliente          object\n",
       "mes_anio         object\n",
       "order_demand    float64\n",
       "dtype: object"
      ]
     },
     "execution_count": 6,
     "metadata": {},
     "output_type": "execute_result"
    }
   ],
   "source": [
    "df_historic_order_demand.dtypes"
   ]
  },
  {
   "cell_type": "code",
   "execution_count": 7,
   "metadata": {},
   "outputs": [
    {
     "data": {
      "text/plain": [
       "array(['Cliente_1', 'Cliente_2', 'Cliente_3', 'Cliente_4', 'Cliente_5',\n",
       "       'Cliente_6', 'Cliente_7', 'Cliente_8', 'Cliente_9', 'Cliente_10',\n",
       "       'Cliente_11', 'Cliente_12', 'Cliente_13', 'Cliente_14',\n",
       "       'Cliente_15', 'Cliente_16', 'Cliente_17', 'Cliente_18',\n",
       "       'Cliente_19', 'Cliente_20'], dtype=object)"
      ]
     },
     "execution_count": 7,
     "metadata": {},
     "output_type": "execute_result"
    }
   ],
   "source": [
    "#20 clientes\n",
    "df_historic_order_demand[\"cliente\"].unique()"
   ]
  },
  {
   "cell_type": "code",
   "execution_count": 8,
   "metadata": {},
   "outputs": [
    {
     "data": {
      "text/plain": [
       "<bound method Series.unique of 0      12-2020\n",
       "1      12-2020\n",
       "2      12-2020\n",
       "3      12-2020\n",
       "4      12-2020\n",
       "        ...   \n",
       "975    12-2024\n",
       "976    12-2024\n",
       "977    12-2024\n",
       "978    12-2024\n",
       "979    12-2024\n",
       "Name: mes_anio, Length: 932, dtype: object>"
      ]
     },
     "execution_count": 8,
     "metadata": {},
     "output_type": "execute_result"
    }
   ],
   "source": [
    "# Todos los valores son únicos\n",
    "df_historic_order_demand[\"mes_anio\"].unique"
   ]
  },
  {
   "cell_type": "code",
   "execution_count": 9,
   "metadata": {},
   "outputs": [],
   "source": [
    "# Como la columna fecha son todo valores únicos, voy a descomponer la columna  en mes y año\n",
    "df_historic_order_demand[\"anio\"] = df_historic_order_demand[\"mes_anio\"].str.split(\"-\").str[1]\n",
    "df_historic_order_demand[\"mes\"] = df_historic_order_demand[\"mes_anio\"].str.split(\"-\").str[0]"
   ]
  },
  {
   "cell_type": "code",
   "execution_count": 10,
   "metadata": {},
   "outputs": [],
   "source": [
    "# Hago una copia del dataframe\n",
    "df_historico = df_historic_order_demand.copy()"
   ]
  },
  {
   "cell_type": "code",
   "execution_count": 11,
   "metadata": {},
   "outputs": [],
   "source": [
    "# Como ya he obtenido lo que necesitaba, elimino la columna\n",
    "df_historico.drop(columns=[\"mes_anio\"], inplace = True)"
   ]
  },
  {
   "cell_type": "code",
   "execution_count": 12,
   "metadata": {},
   "outputs": [],
   "source": [
    "# Convierto a numéricos\n",
    "df_historico[\"anio\"]=df_historico[\"anio\"].astype(int)\n",
    "df_historico[\"mes\"]=df_historico[\"mes\"].astype(int)"
   ]
  },
  {
   "cell_type": "code",
   "execution_count": 13,
   "metadata": {},
   "outputs": [
    {
     "data": {
      "text/plain": [
       "<Axes: >"
      ]
     },
     "execution_count": 13,
     "metadata": {},
     "output_type": "execute_result"
    },
    {
     "data": {
      "image/png": "[encoded data removed]",
      "text/plain": [
       "<Figure size 1500x800 with 2 Axes>"
      ]
     },
     "metadata": {},
     "output_type": "display_data"
    }
   ],
   "source": [
    "# Hay más relacion con mes que con año\n",
    "plt.figure(figsize=(15, 8))\n",
    "correlation_matrix = df_historico.corr(numeric_only=True)\n",
    "sns.heatmap(correlation_matrix, annot=True, cmap='coolwarm', fmt='.2f')"
   ]
  },
  {
   "cell_type": "markdown",
   "metadata": {},
   "source": [
    "## RANDOM FOREST REGRESSOR"
   ]
  },
  {
   "cell_type": "code",
   "execution_count": 14,
   "metadata": {},
   "outputs": [],
   "source": [
    "# Si le quito el año mejora pero muy muy muy muy levemente la predicción, casi no interesa quitarla\n",
    "# df_historico = df_historico.drop(columns=[\"anio\"])"
   ]
  },
  {
   "cell_type": "code",
   "execution_count": 15,
   "metadata": {},
   "outputs": [
    {
     "name": "stdout",
     "output_type": "stream",
     "text": [
      "Cliente_1,\n",
      "            numero_arboles: 4,\n",
      "            criterio: absolute_error,\n",
      "            min_samples_split: 3,\n",
      "            rmse: 28.725206700735853,\n",
      "            r2: 0.9203246831623416\n",
      "Cliente_2,\n",
      "            numero_arboles: 28,\n",
      "            criterio: poisson,\n",
      "            min_samples_split: 3,\n",
      "            rmse: 24.310774498200075,\n",
      "            r2: 0.9486263612362513\n",
      "Cliente_3,\n",
      "            numero_arboles: 20,\n",
      "            criterio: squared_error,\n",
      "            min_samples_split: 2,\n",
      "            rmse: 31.172702788980786,\n",
      "            r2: 0.8875692714099483\n",
      "Cliente_4,\n",
      "            numero_arboles: 8,\n",
      "            criterio: absolute_error,\n",
      "            min_samples_split: 3,\n",
      "            rmse: 29.08490399889606,\n",
      "            r2: 0.9280930241515609\n",
      "Cliente_5,\n",
      "            numero_arboles: 50,\n",
      "            criterio: poisson,\n",
      "            min_samples_split: 2,\n",
      "            rmse: 27.085545537806343,\n",
      "            r2: 0.9288116977945065\n",
      "Cliente_6,\n",
      "            numero_arboles: 100,\n",
      "            criterio: squared_error,\n",
      "            min_samples_split: 2,\n",
      "            rmse: 40.62540797921482,\n",
      "            r2: 0.7853874144712885\n",
      "Cliente_7,\n",
      "            numero_arboles: 10,\n",
      "            criterio: squared_error,\n",
      "            min_samples_split: 5,\n",
      "            rmse: 42.406781646764934,\n",
      "            r2: 0.7948288795116514\n",
      "Cliente_8,\n",
      "            numero_arboles: 28,\n",
      "            criterio: squared_error,\n",
      "            min_samples_split: 3,\n",
      "            rmse: 21.356523412838456,\n",
      "            r2: 0.9540176637598241\n",
      "Cliente_9,\n",
      "            numero_arboles: 14,\n",
      "            criterio: squared_error,\n",
      "            min_samples_split: 3,\n",
      "            rmse: 34.584392603764634,\n",
      "            r2: 0.874669514170372\n",
      "Cliente_10,\n",
      "            numero_arboles: 28,\n",
      "            criterio: absolute_error,\n",
      "            min_samples_split: 5,\n",
      "            rmse: 47.47765019010205,\n",
      "            r2: 0.6193511554426008\n",
      "Cliente_11,\n",
      "            numero_arboles: 4,\n",
      "            criterio: absolute_error,\n",
      "            min_samples_split: 5,\n",
      "            rmse: 193.9476814117663,\n",
      "            r2: 0.06227876970082147\n",
      "Cliente_12,\n",
      "            numero_arboles: 2,\n",
      "            criterio: squared_error,\n",
      "            min_samples_split: 5,\n",
      "            rmse: 45.01244202995432,\n",
      "            r2: 0.8745051150384268\n",
      "Cliente_13,\n",
      "            numero_arboles: 80,\n",
      "            criterio: poisson,\n",
      "            min_samples_split: 5,\n",
      "            rmse: 34.36123347946466,\n",
      "            r2: 0.7902198705281716\n",
      "Cliente_14,\n",
      "            numero_arboles: 12,\n",
      "            criterio: absolute_error,\n",
      "            min_samples_split: 5,\n",
      "            rmse: 29.14798806664592,\n",
      "            r2: 0.8349704346502986\n",
      "Cliente_15,\n",
      "            numero_arboles: 4,\n",
      "            criterio: squared_error,\n",
      "            min_samples_split: 5,\n",
      "            rmse: 256.754599103887,\n",
      "            r2: 0.1689598571839459\n",
      "Cliente_16,\n",
      "            numero_arboles: 50,\n",
      "            criterio: poisson,\n",
      "            min_samples_split: 5,\n",
      "            rmse: 43.15153094828352,\n",
      "            r2: 0.7103393343319224\n",
      "Cliente_17,\n",
      "            numero_arboles: 50,\n",
      "            criterio: poisson,\n",
      "            min_samples_split: 4,\n",
      "            rmse: 34.710861793479026,\n",
      "            r2: 0.8856082275479675\n",
      "Cliente_18,\n",
      "            numero_arboles: 4,\n",
      "            criterio: squared_error,\n",
      "            min_samples_split: 2,\n",
      "            rmse: 43.76272300584851,\n",
      "            r2: 0.8092836070780031\n",
      "Cliente_19,\n",
      "            numero_arboles: 6,\n",
      "            criterio: absolute_error,\n",
      "            min_samples_split: 3,\n",
      "            rmse: 40.04767991615327,\n",
      "            r2: 0.8886702299967606\n",
      "Cliente_20,\n",
      "            numero_arboles: 10,\n",
      "            criterio: absolute_error,\n",
      "            min_samples_split: 5,\n",
      "            rmse: 249.2684175743088,\n",
      "            r2: -7.29479642388473\n"
     ]
    }
   ],
   "source": [
    "# Esto lo hago para encontrar el algoritmo con los mejores parámetros \n",
    "# El último que me salga será el mejor\n",
    "\n",
    "n_arboles = [2,4,6,8,10,12,14,16,18,20,22,24,26,28,50,80,100]\n",
    "criterion = [\"squared_error\", \"absolute_error\", \"friedman_mse\", \"poisson\"]\n",
    "division = [2,3,4,5] # Min samples split\n",
    "\n",
    "\n",
    "modelos_por_cliente = {}\n",
    "\n",
    "# Iterar por cada cliente único\n",
    "for cliente in df_historico[\"cliente\"].unique():\n",
    "    \n",
    "    num = float(\"inf\")\n",
    "    datos_cliente = df_historico[df_historico[\"cliente\"] == cliente]\n",
    "    X = datos_cliente[[\"anio\", \"mes\"]]\n",
    "    y = datos_cliente[\"order_demand\"]\n",
    "    \n",
    "    X_train, X_test, y_train, y_test = train_test_split(X, y, test_size=0.2, random_state=2517)\n",
    "    \n",
    "    for arbol in n_arboles:\n",
    "        for criterio in criterion:\n",
    "            for d in division:\n",
    "                    \n",
    "                #n_estimators es el numero de arboles\n",
    "                regr = RandomForestRegressor(n_estimators=arbol, criterion=criterio, max_depth=5, min_samples_split=d,random_state=2517)\n",
    "                regr.fit(X_train, y_train)\n",
    "                predicciones = regr.predict(X_test)\n",
    "                rmse = root_mean_squared_error(y_test, predicciones)\n",
    "                r2 = r2_score(y_test, predicciones)\n",
    "                if rmse < num:\n",
    "                    rmse_final = rmse\n",
    "                    r2_final = r2\n",
    "                    criterio_final = criterio\n",
    "                    arbol_final = arbol\n",
    "                    d_final = d\n",
    "                        \n",
    "                    num = rmse\n",
    "            \n",
    "    # Mejor resultado\n",
    "    print(f\"\"\"{cliente},\n",
    "            numero_arboles: {arbol_final},\n",
    "            criterio: {criterio_final},\n",
    "            min_samples_split: {d_final},\n",
    "            rmse: {rmse_final},\n",
    "            r2: {r2_final}\"\"\")\n",
    "    \n",
    "    # Aplico el modelo con los mejores parámetros obtenidos y lo guardo junto con el cliente\n",
    "    modelo = RandomForestRegressor(n_estimators=arbol_final, criterion=criterio_final, max_depth=5, min_samples_split=d_final,random_state=2517)\n",
    "    modelo.fit(X_train, y_train)\n",
    "    modelos_por_cliente[cliente] = modelo\n",
    "            \n",
    "    "
   ]
  },
  {
   "cell_type": "code",
   "execution_count": 16,
   "metadata": {},
   "outputs": [
    {
     "data": {
      "text/html": [
       "<div>\n",
       "<style scoped>\n",
       "    .dataframe tbody tr th:only-of-type {\n",
       "        vertical-align: middle;\n",
       "    }\n",
       "\n",
       "    .dataframe tbody tr th {\n",
       "        vertical-align: top;\n",
       "    }\n",
       "\n",
       "    .dataframe thead th {\n",
       "        text-align: right;\n",
       "    }\n",
       "</style>\n",
       "<table border=\"1\" class=\"dataframe\">\n",
       "  <thead>\n",
       "    <tr style=\"text-align: right;\">\n",
       "      <th></th>\n",
       "      <th>cliente</th>\n",
       "      <th>order_demand</th>\n",
       "    </tr>\n",
       "  </thead>\n",
       "  <tbody>\n",
       "    <tr>\n",
       "      <th>0</th>\n",
       "      <td>Cliente_1</td>\n",
       "      <td>725.0</td>\n",
       "    </tr>\n",
       "    <tr>\n",
       "      <th>1</th>\n",
       "      <td>Cliente_2</td>\n",
       "      <td>721.0</td>\n",
       "    </tr>\n",
       "    <tr>\n",
       "      <th>2</th>\n",
       "      <td>Cliente_3</td>\n",
       "      <td>768.0</td>\n",
       "    </tr>\n",
       "    <tr>\n",
       "      <th>3</th>\n",
       "      <td>Cliente_4</td>\n",
       "      <td>743.0</td>\n",
       "    </tr>\n",
       "    <tr>\n",
       "      <th>4</th>\n",
       "      <td>Cliente_5</td>\n",
       "      <td>679.0</td>\n",
       "    </tr>\n",
       "  </tbody>\n",
       "</table>\n",
       "</div>"
      ],
      "text/plain": [
       "     cliente  order_demand\n",
       "0  Cliente_1         725.0\n",
       "1  Cliente_2         721.0\n",
       "2  Cliente_3         768.0\n",
       "3  Cliente_4         743.0\n",
       "4  Cliente_5         679.0"
      ]
     },
     "execution_count": 16,
     "metadata": {},
     "output_type": "execute_result"
    }
   ],
   "source": [
    "df_prediccion = pd.DataFrame({\"anio\":[2025], \"mes\":[1]})\n",
    "clientes= []\n",
    "soluciones = []\n",
    " \n",
    "for cliente, modelo in modelos_por_cliente.items():\n",
    "    # Predecir con el modelo del cliente\n",
    "    clientes.append(cliente)\n",
    "    prediccion = modelo.predict(df_prediccion)\n",
    "    soluciones.append(prediccion[0].round())   # Guardar el valor predicho\n",
    "\n",
    "df_predicciones_enero = pd.DataFrame({\"cliente\":clientes,\"order_demand\":soluciones})\n",
    "\n",
    "df_predicciones_enero.to_csv(\"../datos/prediccion/pedidos_2025.csv\", index=False)\n",
    "\n",
    "df_predicciones_enero.head(5)\n"
   ]
  },
  {
   "cell_type": "code",
   "execution_count": 17,
   "metadata": {},
   "outputs": [],
   "source": [
    "demandas_path = os.path.join(\n",
    "    base_dir, \"..\", \"datos\", \"prediccion\", \"pedidos_2025.csv\"\n",
    ")"
   ]
  },
  {
   "cell_type": "code",
   "execution_count": 18,
   "metadata": {},
   "outputs": [],
   "source": [
    "df_predicciones_enero.to_csv(demandas_path, index=False)"
   ]
  },
  {
   "cell_type": "code",
   "execution_count": null,
   "metadata": {},
   "outputs": [],
   "source": []
  }
 ],
 "metadata": {
  "kernelspec": {
   "display_name": "Python 3",
   "language": "python",
   "name": "python3"
  },
  "language_info": {
   "codemirror_mode": {
    "name": "ipython",
    "version": 3
   },
   "file_extension": ".py",
   "mimetype": "text/x-python",
   "name": "python",
   "nbconvert_exporter": "python",
   "pygments_lexer": "ipython3",
   "version": "3.12.0"
  }
 },
 "nbformat": 4,
 "nbformat_minor": 2
}
