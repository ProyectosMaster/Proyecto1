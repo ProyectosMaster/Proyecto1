{
 "cells": [
  {
   "cell_type": "code",
   "execution_count": 104,
   "metadata": {},
   "outputs": [],
   "source": [
    "import pandas as pd # type: ignore\n",
    "from sklearn.ensemble import RandomForestRegressor # type: ignore\n",
    "from sklearn.model_selection import train_test_split # type: ignore\n",
    "from sklearn.metrics import root_mean_squared_error, r2_score # type: ignore"
   ]
  },
  {
   "cell_type": "code",
   "execution_count": 105,
   "metadata": {},
   "outputs": [],
   "source": [
    "df_historic_order_demand = pd.read_excel('datos/raw_data/df_historic_order_demand.xlsx')"
   ]
  },
  {
   "cell_type": "code",
   "execution_count": 106,
   "metadata": {},
   "outputs": [
    {
     "data": {
      "text/html": [
       "<div>\n",
       "<style scoped>\n",
       "    .dataframe tbody tr th:only-of-type {\n",
       "        vertical-align: middle;\n",
       "    }\n",
       "\n",
       "    .dataframe tbody tr th {\n",
       "        vertical-align: top;\n",
       "    }\n",
       "\n",
       "    .dataframe thead th {\n",
       "        text-align: right;\n",
       "    }\n",
       "</style>\n",
       "<table border=\"1\" class=\"dataframe\">\n",
       "  <thead>\n",
       "    <tr style=\"text-align: right;\">\n",
       "      <th></th>\n",
       "      <th>cliente</th>\n",
       "      <th>mes_anio</th>\n",
       "      <th>order_demand</th>\n",
       "    </tr>\n",
       "  </thead>\n",
       "  <tbody>\n",
       "  </tbody>\n",
       "</table>\n",
       "</div>"
      ],
      "text/plain": [
       "Empty DataFrame\n",
       "Columns: [cliente, mes_anio, order_demand]\n",
       "Index: []"
      ]
     },
     "execution_count": 106,
     "metadata": {},
     "output_type": "execute_result"
    }
   ],
   "source": [
    "# No hay duplicados\n",
    "df_historic_order_demand[df_historic_order_demand.duplicated()]"
   ]
  },
  {
   "cell_type": "code",
   "execution_count": 107,
   "metadata": {},
   "outputs": [
    {
     "data": {
      "text/plain": [
       "cliente          0\n",
       "mes_anio         0\n",
       "order_demand    48\n",
       "dtype: int64"
      ]
     },
     "execution_count": 107,
     "metadata": {},
     "output_type": "execute_result"
    }
   ],
   "source": [
    "df_historic_order_demand.isna().sum()"
   ]
  },
  {
   "cell_type": "code",
   "execution_count": 108,
   "metadata": {},
   "outputs": [],
   "source": [
    "df_historic_order_demand.dropna(inplace=True)"
   ]
  },
  {
   "cell_type": "code",
   "execution_count": 109,
   "metadata": {},
   "outputs": [
    {
     "data": {
      "text/plain": [
       "cliente          object\n",
       "mes_anio         object\n",
       "order_demand    float64\n",
       "dtype: object"
      ]
     },
     "execution_count": 109,
     "metadata": {},
     "output_type": "execute_result"
    }
   ],
   "source": [
    "df_historic_order_demand.dtypes"
   ]
  },
  {
   "cell_type": "code",
   "execution_count": 110,
   "metadata": {},
   "outputs": [
    {
     "data": {
      "text/plain": [
       "array(['Cliente_1', 'Cliente_2', 'Cliente_3', 'Cliente_4', 'Cliente_5',\n",
       "       'Cliente_6', 'Cliente_7', 'Cliente_8', 'Cliente_9', 'Cliente_10',\n",
       "       'Cliente_11', 'Cliente_12', 'Cliente_13', 'Cliente_14',\n",
       "       'Cliente_15', 'Cliente_16', 'Cliente_17', 'Cliente_18',\n",
       "       'Cliente_19', 'Cliente_20'], dtype=object)"
      ]
     },
     "execution_count": 110,
     "metadata": {},
     "output_type": "execute_result"
    }
   ],
   "source": [
    "#20 clientes\n",
    "df_historic_order_demand[\"cliente\"].unique()"
   ]
  },
  {
   "cell_type": "code",
   "execution_count": 111,
   "metadata": {},
   "outputs": [
    {
     "data": {
      "text/plain": [
       "<bound method Series.unique of 0      12-2020\n",
       "1      12-2020\n",
       "2      12-2020\n",
       "3      12-2020\n",
       "4      12-2020\n",
       "        ...   \n",
       "975    12-2024\n",
       "976    12-2024\n",
       "977    12-2024\n",
       "978    12-2024\n",
       "979    12-2024\n",
       "Name: mes_anio, Length: 932, dtype: object>"
      ]
     },
     "execution_count": 111,
     "metadata": {},
     "output_type": "execute_result"
    }
   ],
   "source": [
    "# Todos los valores son únicos\n",
    "df_historic_order_demand[\"mes_anio\"].unique"
   ]
  },
  {
   "cell_type": "code",
   "execution_count": 112,
   "metadata": {},
   "outputs": [],
   "source": [
    "# Como la columna fecha son todo valores únicos, voy a descomponer la columna  en mes y año\n",
    "df_historic_order_demand[\"anio\"] = df_historic_order_demand[\"mes_anio\"].str.split(\"-\").str[1]\n",
    "df_historic_order_demand[\"mes\"] = df_historic_order_demand[\"mes_anio\"].str.split(\"-\").str[0]"
   ]
  },
  {
   "cell_type": "code",
   "execution_count": 113,
   "metadata": {},
   "outputs": [],
   "source": [
    "# Hago una copia del dataframe\n",
    "df_historico = df_historic_order_demand.copy()"
   ]
  },
  {
   "cell_type": "code",
   "execution_count": 114,
   "metadata": {},
   "outputs": [],
   "source": [
    "# Como ya he obtenido lo que necesitaba, elimino la columna\n",
    "df_historico.drop(columns=[\"mes_anio\"], inplace = True)"
   ]
  },
  {
   "cell_type": "code",
   "execution_count": 115,
   "metadata": {},
   "outputs": [],
   "source": [
    "# Convierto a numéricos\n",
    "df_historico[\"anio\"]=df_historico[\"anio\"].astype(int)\n",
    "df_historico[\"mes\"]=df_historico[\"mes\"].astype(int)"
   ]
  },
  {
   "cell_type": "code",
   "execution_count": 116,
   "metadata": {},
   "outputs": [],
   "source": [
    "# Como la columna cliente es categórica, hago un get_dummies para que por cada cliente haga una columna numérica\n",
    "df_historico = pd.get_dummies(df_historico, columns = ['cliente'], drop_first=True, dtype=int)"
   ]
  },
  {
   "cell_type": "markdown",
   "metadata": {},
   "source": [
    "## Random Forest Regressor"
   ]
  },
  {
   "cell_type": "code",
   "execution_count": 117,
   "metadata": {},
   "outputs": [],
   "source": [
    "X = df_historico.drop(columns=[\"order_demand\"])  \n",
    "y = df_historico[\"order_demand\"]"
   ]
  },
  {
   "cell_type": "code",
   "execution_count": 118,
   "metadata": {},
   "outputs": [],
   "source": [
    "# División de datos\n",
    "X_train, X_test, y_train, y_test = train_test_split(X, y, test_size=0.2, random_state=2517)"
   ]
  },
  {
   "cell_type": "code",
   "execution_count": null,
   "metadata": {},
   "outputs": [
    {
     "name": "stdout",
     "output_type": "stream",
     "text": [
      "El random con:\n",
      "                    criterio: squared_error\n",
      "                    n_arboles: 2,\n",
      "                    min_samples_split: 2,\n",
      "                    rmse: 86.85211140205078,\n",
      "                    r2= 0.6094354760634837\n",
      "                              \n",
      "El random con:\n",
      "                    criterio: absolute_error\n",
      "                    n_arboles: 2,\n",
      "                    min_samples_split: 2,\n",
      "                    rmse: 81.6952199165854,\n",
      "                    r2= 0.654438521517525\n",
      "                              \n"
     ]
    }
   ],
   "source": [
    "# Esto lo hago para encontrar el algoritmo con los mejores parámetros \n",
    "# El último que me salga será el mejor\n",
    "\n",
    "n_arboles = [2,4,6,8,10,12,14,16,18,20,22,24,26,28,30,50,100,500]\n",
    "criterion = [\"squared_error\", \"absolute_error\", \"friedman_mse\", \"poisson\"]\n",
    "division = [2,3,4,5] # Min samples split\n",
    "num = 99999\n",
    "\n",
    "for arbol in n_arboles:\n",
    "    for criterio in criterion:\n",
    "        for d in division:\n",
    "            \n",
    "            #n_estimators es el numero de arboles\n",
    "            regr = RandomForestRegressor(n_estimators=arbol, criterion=criterio, max_depth=5, min_samples_split=d,random_state=2517)\n",
    "            regr.fit(X_train, y_train)\n",
    "            predicciones = regr.predict(X_test)\n",
    "            rmse = root_mean_squared_error(y_test, predicciones)\n",
    "            r2 = r2_score(y_test, predicciones)\n",
    "            if rmse < num:\n",
    "                print(f\"\"\"El random con:\n",
    "                    criterio: {criterio}\n",
    "                    n_arboles: {arbol},\n",
    "                    min_samples_split: {d},\n",
    "                    rmse: {rmse},\n",
    "                    r2= {r2}\n",
    "                              \"\"\")\n",
    "                num = rmse\n",
    "    \n",
    "    "
   ]
  },
  {
   "cell_type": "code",
   "execution_count": 120,
   "metadata": {},
   "outputs": [],
   "source": [
    "# Árbol con los mejores parametros \n",
    "regr = RandomForestRegressor(n_estimators=2, criterion=\"absolute_error\", max_depth=5, min_samples_split=2,random_state=2517)\n",
    "regr.fit(X_train, y_train)\n",
    "predicciones = regr.predict(X_test)"
   ]
  },
  {
   "cell_type": "markdown",
   "metadata": {},
   "source": [
    "## Prediccion enero 2025"
   ]
  },
  {
   "cell_type": "code",
   "execution_count": 126,
   "metadata": {},
   "outputs": [],
   "source": [
    "# Nuevo dataframe con los datos de enero de 2025 y sus clientes\n",
    "clientes = [\"Cliente_1\", \"Cliente_2\", \"Cliente_3\", \"Cliente_4\", \"Cliente_5\", \"Cliente_6\",\"Cliente_7\", \"Cliente_8\", \"Cliente_9\",\n",
    "            \"Cliente_10\", \"Cliente_11\", \"Cliente_12\",\"Cliente_13\", \"Cliente_14\", \"Cliente_15\",\"Cliente_16\", \"Cliente_17\", \n",
    "            \"Cliente_18\",\"Cliente_19\",\"Cliente_20\"]\n",
    "df_prediccion = pd.DataFrame({\"cliente\":clientes})"
   ]
  },
  {
   "cell_type": "code",
   "execution_count": 127,
   "metadata": {},
   "outputs": [],
   "source": [
    "# Defino las nuevas columnas del dataframe\n",
    "df_prediccion[\"anio\"]= 2025\n",
    "df_prediccion[\"mes\"]= 1\n",
    "df_prediccion = pd.get_dummies(df_prediccion, columns = ['cliente'], drop_first=True, dtype=int)"
   ]
  },
  {
   "cell_type": "code",
   "execution_count": 128,
   "metadata": {},
   "outputs": [],
   "source": [
    "# Hago la predicción\n",
    "X_pred = df_prediccion  \n",
    "\n",
    "predicciones_enero = regr.predict(X_pred)\n",
    "\n",
    "df_prediccion[\"order_demand\"] = predicciones_enero\n",
    "\n",
    "df_prediccion['order_demand'] = df_prediccion['order_demand'].round(0)  \n",
    "\n"
   ]
  },
  {
   "cell_type": "code",
   "execution_count": 129,
   "metadata": {},
   "outputs": [
    {
     "data": {
      "text/html": [
       "<div>\n",
       "<style scoped>\n",
       "    .dataframe tbody tr th:only-of-type {\n",
       "        vertical-align: middle;\n",
       "    }\n",
       "\n",
       "    .dataframe tbody tr th {\n",
       "        vertical-align: top;\n",
       "    }\n",
       "\n",
       "    .dataframe thead th {\n",
       "        text-align: right;\n",
       "    }\n",
       "</style>\n",
       "<table border=\"1\" class=\"dataframe\">\n",
       "  <thead>\n",
       "    <tr style=\"text-align: right;\">\n",
       "      <th></th>\n",
       "      <th>cliente</th>\n",
       "      <th>anio</th>\n",
       "      <th>mes</th>\n",
       "      <th>order_demand</th>\n",
       "    </tr>\n",
       "  </thead>\n",
       "  <tbody>\n",
       "    <tr>\n",
       "      <th>0</th>\n",
       "      <td>Cliente_1</td>\n",
       "      <td>2025</td>\n",
       "      <td>1</td>\n",
       "      <td>732.0</td>\n",
       "    </tr>\n",
       "    <tr>\n",
       "      <th>1</th>\n",
       "      <td>Cliente_2</td>\n",
       "      <td>2025</td>\n",
       "      <td>1</td>\n",
       "      <td>726.0</td>\n",
       "    </tr>\n",
       "    <tr>\n",
       "      <th>2</th>\n",
       "      <td>Cliente_3</td>\n",
       "      <td>2025</td>\n",
       "      <td>1</td>\n",
       "      <td>732.0</td>\n",
       "    </tr>\n",
       "    <tr>\n",
       "      <th>3</th>\n",
       "      <td>Cliente_4</td>\n",
       "      <td>2025</td>\n",
       "      <td>1</td>\n",
       "      <td>757.0</td>\n",
       "    </tr>\n",
       "    <tr>\n",
       "      <th>4</th>\n",
       "      <td>Cliente_5</td>\n",
       "      <td>2025</td>\n",
       "      <td>1</td>\n",
       "      <td>732.0</td>\n",
       "    </tr>\n",
       "    <tr>\n",
       "      <th>5</th>\n",
       "      <td>Cliente_6</td>\n",
       "      <td>2025</td>\n",
       "      <td>1</td>\n",
       "      <td>732.0</td>\n",
       "    </tr>\n",
       "    <tr>\n",
       "      <th>6</th>\n",
       "      <td>Cliente_7</td>\n",
       "      <td>2025</td>\n",
       "      <td>1</td>\n",
       "      <td>713.0</td>\n",
       "    </tr>\n",
       "    <tr>\n",
       "      <th>7</th>\n",
       "      <td>Cliente_8</td>\n",
       "      <td>2025</td>\n",
       "      <td>1</td>\n",
       "      <td>732.0</td>\n",
       "    </tr>\n",
       "    <tr>\n",
       "      <th>8</th>\n",
       "      <td>Cliente_9</td>\n",
       "      <td>2025</td>\n",
       "      <td>1</td>\n",
       "      <td>732.0</td>\n",
       "    </tr>\n",
       "    <tr>\n",
       "      <th>9</th>\n",
       "      <td>Cliente_10</td>\n",
       "      <td>2025</td>\n",
       "      <td>1</td>\n",
       "      <td>732.0</td>\n",
       "    </tr>\n",
       "    <tr>\n",
       "      <th>10</th>\n",
       "      <td>Cliente_11</td>\n",
       "      <td>2025</td>\n",
       "      <td>1</td>\n",
       "      <td>732.0</td>\n",
       "    </tr>\n",
       "    <tr>\n",
       "      <th>11</th>\n",
       "      <td>Cliente_12</td>\n",
       "      <td>2025</td>\n",
       "      <td>1</td>\n",
       "      <td>732.0</td>\n",
       "    </tr>\n",
       "    <tr>\n",
       "      <th>12</th>\n",
       "      <td>Cliente_13</td>\n",
       "      <td>2025</td>\n",
       "      <td>1</td>\n",
       "      <td>751.0</td>\n",
       "    </tr>\n",
       "    <tr>\n",
       "      <th>13</th>\n",
       "      <td>Cliente_14</td>\n",
       "      <td>2025</td>\n",
       "      <td>1</td>\n",
       "      <td>724.0</td>\n",
       "    </tr>\n",
       "    <tr>\n",
       "      <th>14</th>\n",
       "      <td>Cliente_15</td>\n",
       "      <td>2025</td>\n",
       "      <td>1</td>\n",
       "      <td>732.0</td>\n",
       "    </tr>\n",
       "    <tr>\n",
       "      <th>15</th>\n",
       "      <td>Cliente_16</td>\n",
       "      <td>2025</td>\n",
       "      <td>1</td>\n",
       "      <td>732.0</td>\n",
       "    </tr>\n",
       "    <tr>\n",
       "      <th>16</th>\n",
       "      <td>Cliente_17</td>\n",
       "      <td>2025</td>\n",
       "      <td>1</td>\n",
       "      <td>710.0</td>\n",
       "    </tr>\n",
       "    <tr>\n",
       "      <th>17</th>\n",
       "      <td>Cliente_18</td>\n",
       "      <td>2025</td>\n",
       "      <td>1</td>\n",
       "      <td>732.0</td>\n",
       "    </tr>\n",
       "    <tr>\n",
       "      <th>18</th>\n",
       "      <td>Cliente_19</td>\n",
       "      <td>2025</td>\n",
       "      <td>1</td>\n",
       "      <td>732.0</td>\n",
       "    </tr>\n",
       "    <tr>\n",
       "      <th>19</th>\n",
       "      <td>Cliente_20</td>\n",
       "      <td>2025</td>\n",
       "      <td>1</td>\n",
       "      <td>732.0</td>\n",
       "    </tr>\n",
       "  </tbody>\n",
       "</table>\n",
       "</div>"
      ],
      "text/plain": [
       "       cliente  anio  mes  order_demand\n",
       "0    Cliente_1  2025    1         732.0\n",
       "1    Cliente_2  2025    1         726.0\n",
       "2    Cliente_3  2025    1         732.0\n",
       "3    Cliente_4  2025    1         757.0\n",
       "4    Cliente_5  2025    1         732.0\n",
       "5    Cliente_6  2025    1         732.0\n",
       "6    Cliente_7  2025    1         713.0\n",
       "7    Cliente_8  2025    1         732.0\n",
       "8    Cliente_9  2025    1         732.0\n",
       "9   Cliente_10  2025    1         732.0\n",
       "10  Cliente_11  2025    1         732.0\n",
       "11  Cliente_12  2025    1         732.0\n",
       "12  Cliente_13  2025    1         751.0\n",
       "13  Cliente_14  2025    1         724.0\n",
       "14  Cliente_15  2025    1         732.0\n",
       "15  Cliente_16  2025    1         732.0\n",
       "16  Cliente_17  2025    1         710.0\n",
       "17  Cliente_18  2025    1         732.0\n",
       "18  Cliente_19  2025    1         732.0\n",
       "19  Cliente_20  2025    1         732.0"
      ]
     },
     "execution_count": 129,
     "metadata": {},
     "output_type": "execute_result"
    }
   ],
   "source": [
    "# Predicciones de enero de 2025\n",
    "df_aux = df_prediccion.copy()\n",
    "\n",
    "df_aux[\"cliente\"] = clientes\n",
    "df_aux[[\"cliente\",\"anio\",\"mes\",\"order_demand\"]]\n"
   ]
  },
  {
   "cell_type": "code",
   "execution_count": 130,
   "metadata": {},
   "outputs": [
    {
     "data": {
      "text/plain": [
       "count     932.000000\n",
       "mean      700.636266\n",
       "std       177.138557\n",
       "min       555.000000\n",
       "25%       601.000000\n",
       "50%       641.000000\n",
       "75%       768.000000\n",
       "max      2776.000000\n",
       "Name: order_demand, dtype: float64"
      ]
     },
     "execution_count": 130,
     "metadata": {},
     "output_type": "execute_result"
    }
   ],
   "source": [
    "# Para comparar con los resultados\n",
    "df_historic_order_demand[\"order_demand\"].describe()"
   ]
  }
 ],
 "metadata": {
  "kernelspec": {
   "display_name": "Python 3",
   "language": "python",
   "name": "python3"
  },
  "language_info": {
   "codemirror_mode": {
    "name": "ipython",
    "version": 3
   },
   "file_extension": ".py",
   "mimetype": "text/x-python",
   "name": "python",
   "nbconvert_exporter": "python",
   "pygments_lexer": "ipython3",
   "version": "3.12.0"
  }
 },
 "nbformat": 4,
 "nbformat_minor": 2
}
